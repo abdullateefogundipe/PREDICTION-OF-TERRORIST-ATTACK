{
 "cells": [
  {
   "cell_type": "markdown",
   "id": "61600205",
   "metadata": {},
   "source": [
    "POSSIBLE PROBLEM DEFINITIONS TO WORK ON AS SUGGESTED BY TEAM MEMBERS\n",
    "\n",
    "1. prediction of terrorist organization responsible for an attack\n",
    "\n",
    "2. Prediction of country or continent susceptible to terrorist attack\n",
    "\n",
    "3. Story telling/analysis of countries more affected with terrorism attack and recommendation system for international aide based on impact and occurrence of terrorist attack.\n",
    "\n",
    "4. Designing a forecasting system for future terrorist attack based on trend of past attacks\n",
    "\n",
    "5. Analyze, predict and categorize various terrorist activities\n",
    "\n",
    "6. predicting success of a terrorist attack\n",
    "\n",
    "7. Predicting region of a terrorist attack"
   ]
  },
  {
   "cell_type": "code",
   "execution_count": 3,
   "id": "ec7099d2",
   "metadata": {},
   "outputs": [],
   "source": [
    "import warnings\n",
    "warnings.filterwarnings('ignore')"
   ]
  },
  {
   "cell_type": "code",
   "execution_count": 4,
   "id": "82683ec2",
   "metadata": {},
   "outputs": [],
   "source": [
    "import pandas as pd\n",
    "import numpy as np\n",
    "import matplotlib.pyplot as plt\n",
    "import matplotlib.pylab as plb\n",
    "import seaborn as sns\n",
    "from sklearn.preprocessing import MinMaxScaler, StandardScaler, Normalizer"
   ]
  },
  {
   "cell_type": "code",
   "execution_count": 11,
   "id": "9923d8c2",
   "metadata": {},
   "outputs": [
    {
     "name": "stdout",
     "output_type": "stream",
     "text": [
      "Requirement already satisfied: colorama in c:\\users\\drogu\\anaconda3\\lib\\site-packages (0.4.4)\n"
     ]
    }
   ],
   "source": [
    "!pip install colorama"
   ]
  },
  {
   "cell_type": "code",
   "execution_count": 12,
   "id": "bc868e36",
   "metadata": {},
   "outputs": [],
   "source": [
    "plt.style.use('seaborn')\n",
    "from colorama import Style, Fore, Back"
   ]
  },
  {
   "cell_type": "code",
   "execution_count": 5,
   "id": "6e9fcb8e",
   "metadata": {},
   "outputs": [],
   "source": [
    "df = pd.read_csv(\"clean_df.csv\", index_col=[0])"
   ]
  },
  {
   "cell_type": "code",
   "execution_count": 6,
   "id": "e50c1673",
   "metadata": {},
   "outputs": [],
   "source": [
    "# function to display UNIQUE examples of data in each field\n",
    "\n",
    "def getDesc(data, Column, numExamples=5):\n",
    "    x = list(set([i for i in data[Column] if i==i]))\n",
    "    if len(x)<numExamples:\n",
    "        numExamples = len(x)\n",
    "    x = list(np.random.choice(x, size=numExamples, replace=False))\n",
    "    print('Examples in '+Style.BRIGHT+Back.CYAN+Column+Back.RESET+':'+Style.RESET_ALL, x, '\\n')\n",
    "    return None\n",
    "\n",
    "# ======================================================================================\n",
    "\n",
    "# function to display the number of missing values in each field\n",
    "\n",
    "def getNumNan(data, thisFeature):\n",
    "    ms = data[data[thisFeature] != data[thisFeature]].shape[0]\n",
    "    print('Missing values in '+Style.BRIGHT+Back.CYAN+thisFeature+Back.RESET+Style.RESET_ALL+': {}'.format(ms))\n",
    "    return None"
   ]
  },
  {
   "cell_type": "code",
   "execution_count": 13,
   "id": "1270a0be",
   "metadata": {
    "scrolled": true
   },
   "outputs": [
    {
     "name": "stdout",
     "output_type": "stream",
     "text": [
      "Missing values in \u001b[1m\u001b[46mYear\u001b[49m\u001b[0m: 0\n",
      "Examples in \u001b[1m\u001b[46mYear\u001b[49m:\u001b[0m [2008, 1981, 1987, 2006, 1982, 1984, 1989] \n",
      "\n",
      "Missing values in \u001b[1m\u001b[46mMonth\u001b[49m\u001b[0m: 0\n",
      "Examples in \u001b[1m\u001b[46mMonth\u001b[49m:\u001b[0m [12, 7, 0, 11, 9, 8, 5] \n",
      "\n",
      "Missing values in \u001b[1m\u001b[46mDay\u001b[49m\u001b[0m: 0\n",
      "Examples in \u001b[1m\u001b[46mDay\u001b[49m:\u001b[0m [16, 9, 8, 11, 17, 25, 14] \n",
      "\n",
      "Missing values in \u001b[1m\u001b[46mExtended\u001b[49m\u001b[0m: 0\n",
      "Examples in \u001b[1m\u001b[46mExtended\u001b[49m:\u001b[0m [0, 1] \n",
      "\n",
      "Missing values in \u001b[1m\u001b[46mCountry\u001b[49m\u001b[0m: 0\n",
      "Examples in \u001b[1m\u001b[46mCountry\u001b[49m:\u001b[0m ['East Germany (GDR)', 'Laos', 'Sierra Leone', 'China', 'Luxembourg', 'India', 'Spain'] \n",
      "\n",
      "Missing values in \u001b[1m\u001b[46mRegion\u001b[49m\u001b[0m: 0\n",
      "Examples in \u001b[1m\u001b[46mRegion\u001b[49m:\u001b[0m ['Southeast Asia', 'Australasia & Oceania', 'Middle East & North Africa', 'Central Asia', 'South America', 'Eastern Europe', 'Western Europe'] \n",
      "\n",
      "Missing values in \u001b[1m\u001b[46mCity\u001b[49m\u001b[0m: 0\n",
      "Examples in \u001b[1m\u001b[46mCity\u001b[49m:\u001b[0m ['Ein Tamer', 'Fitadher', 'Dantar', 'Bhagirath Para', 'Cerro La  Caja', 'Gourma Rhaous', 'Bouberak Sahel'] \n",
      "\n",
      "Missing values in \u001b[1m\u001b[46mSuccess\u001b[49m\u001b[0m: 0\n",
      "Examples in \u001b[1m\u001b[46mSuccess\u001b[49m:\u001b[0m [1, 0] \n",
      "\n",
      "Missing values in \u001b[1m\u001b[46mSuicide\u001b[49m\u001b[0m: 0\n",
      "Examples in \u001b[1m\u001b[46mSuicide\u001b[49m:\u001b[0m [0, 1] \n",
      "\n",
      "Missing values in \u001b[1m\u001b[46mAttack_Type\u001b[49m\u001b[0m: 0\n",
      "Examples in \u001b[1m\u001b[46mAttack_Type\u001b[49m:\u001b[0m ['Hijacking', 'Bombing/Explosion', 'Assassination', 'Hostage Taking (Kidnapping)', 'Armed Assault', 'Facility/Infrastructure Attack', 'Unarmed Assault'] \n",
      "\n",
      "Missing values in \u001b[1m\u001b[46mTarget_Type\u001b[49m\u001b[0m: 0\n",
      "Examples in \u001b[1m\u001b[46mTarget_Type\u001b[49m:\u001b[0m ['Police', 'Transportation', 'Maritime', 'Private Citizens & Property', 'Terrorists/Non-State Militia', 'Other', 'NGO'] \n",
      "\n",
      "Missing values in \u001b[1m\u001b[46mTarget_Subtype\u001b[49m\u001b[0m: 0\n",
      "Examples in \u001b[1m\u001b[46mTarget_Subtype\u001b[49m:\u001b[0m ['Military Maritime', 'Military Personnel (soldiers, troops, officers, forces)', 'Radio', 'House/Apartment/Residence', 'Police Security Forces/Officers', 'Farmer', 'Military Weaponry'] \n",
      "\n",
      "Missing values in \u001b[1m\u001b[46mTarget\u001b[49m\u001b[0m: 0\n",
      "Examples in \u001b[1m\u001b[46mTarget\u001b[49m:\u001b[0m ['Arms Shop', 'Candidate: Hamza Al Shamry', 'Crowded Post Office', \"Garbo's Restaurant\", 'Police officers in Riyadh', 'The Bhum Jai Thai political party opposition headquarters', 'Director: Abdul Mazid Bhuiyan'] \n",
      "\n",
      "Missing values in \u001b[1m\u001b[46mTarget_Nationality\u001b[49m\u001b[0m: 0\n",
      "Examples in \u001b[1m\u001b[46mTarget_Nationality\u001b[49m:\u001b[0m ['Estonia', 'Kenya', 'Belarus', 'Laos', 'Gambia', 'Puerto Rico', 'Netherlands'] \n",
      "\n",
      "Missing values in \u001b[1m\u001b[46mAttack_Group\u001b[49m\u001b[0m: 0\n",
      "Examples in \u001b[1m\u001b[46mAttack_Group\u001b[49m:\u001b[0m ['Sipah-e-Sahaba/Pakistan (SSP)', 'The Revolt', 'Islamic Jihad Brigades', \"People's Sovereignty Party (PDR)\", 'White Wolves (UK)', 'Sekihotai', 'Anti-Imperialist Commando'] \n",
      "\n",
      "Missing values in \u001b[1m\u001b[46mWeapon\u001b[49m\u001b[0m: 0\n",
      "Examples in \u001b[1m\u001b[46mWeapon\u001b[49m:\u001b[0m ['Incendiary', 'Vehicle (not to include vehicle-borne explosives, i.e., car or truck bombs)', 'Explosives', 'Biological', 'Chemical', 'Fake Weapons', 'Sabotage Equipment'] \n",
      "\n",
      "Missing values in \u001b[1m\u001b[46mNo_Of_Killed\u001b[49m\u001b[0m: 0\n",
      "Examples in \u001b[1m\u001b[46mNo_Of_Killed\u001b[49m:\u001b[0m [110.0, 1383.0, 39.0, 4.0, 190.0, 518.0, 41.0] \n",
      "\n",
      "Missing values in \u001b[1m\u001b[46mNo_Of_Wounded\u001b[49m\u001b[0m: 0\n",
      "Examples in \u001b[1m\u001b[46mNo_Of_Wounded\u001b[49m:\u001b[0m [347.0, 194.0, 145.0, 9.0, 21.0, 76.0, 2.0] \n",
      "\n",
      "Missing values in \u001b[1m\u001b[46mProperty\u001b[49m\u001b[0m: 0\n",
      "Examples in \u001b[1m\u001b[46mProperty\u001b[49m:\u001b[0m [-9, 0, 1] \n",
      "\n",
      "Missing values in \u001b[1m\u001b[46mcountry\u001b[49m\u001b[0m: 0\n",
      "Examples in \u001b[1m\u001b[46mcountry\u001b[49m:\u001b[0m [31, 167, 190, 18, 92, 5, 236] \n",
      "\n",
      "Missing values in \u001b[1m\u001b[46mregion\u001b[49m\u001b[0m: 0\n",
      "Examples in \u001b[1m\u001b[46mregion\u001b[49m:\u001b[0m [1, 6, 12, 2, 7, 10, 11] \n",
      "\n",
      "Missing values in \u001b[1m\u001b[46mattacktype1\u001b[49m\u001b[0m: 0\n",
      "Examples in \u001b[1m\u001b[46mattacktype1\u001b[49m:\u001b[0m [3, 5, 2, 8, 6, 4, 7] \n",
      "\n",
      "Missing values in \u001b[1m\u001b[46mtargtype1\u001b[49m\u001b[0m: 0\n",
      "Examples in \u001b[1m\u001b[46mtargtype1\u001b[49m:\u001b[0m [17, 10, 21, 16, 22, 14, 7] \n",
      "\n",
      "Missing values in \u001b[1m\u001b[46mtarget1\u001b[49m\u001b[0m: 0\n",
      "Examples in \u001b[1m\u001b[46mtarget1\u001b[49m:\u001b[0m ['Two employees of a local LG Company branch', 'The Macedonian consulate in Karachi, Pakistan', 'Five Somaliland Nation-Link Company telecom workers', 'Terminal 3', 'Executive Engineer: Dinesh Kumar', 'Quetta Development Authority Office Building', 'Divisional police headquarters in Geidam'] \n",
      "\n",
      "Missing values in \u001b[1m\u001b[46mnatlty1\u001b[49m\u001b[0m: 0\n",
      "Examples in \u001b[1m\u001b[46mnatlty1\u001b[49m:\u001b[0m [72.0, 183.0, 167.0, 4.0, 160.0, 520.0, 95.0] \n",
      "\n",
      "Missing values in \u001b[1m\u001b[46mgname\u001b[49m\u001b[0m: 0\n",
      "Examples in \u001b[1m\u001b[46mgname\u001b[49m:\u001b[0m ['Devrimici Halk Kurtulus Cephesi (DHKP/C)', 'Militant Peasants (NFI)', 'Sunni Muslim extremists', 'Volunteers of Innocent People of Nagas (VIPN)', 'Reform of the Armed Forces Movement', 'Al-Badr', 'Nuclei Communist Combattants'] \n",
      "\n",
      "Missing values in \u001b[1m\u001b[46mweaptype1\u001b[49m\u001b[0m: 0\n",
      "Examples in \u001b[1m\u001b[46mweaptype1\u001b[49m:\u001b[0m [2, 10, 12, 6, 1, 8, 3] \n",
      "\n"
     ]
    }
   ],
   "source": [
    "for i in df.columns:\n",
    "    getNumNan(df, i)\n",
    "    getDesc(df, i, 7)"
   ]
  },
  {
   "cell_type": "code",
   "execution_count": 32,
   "id": "fe8e220f",
   "metadata": {},
   "outputs": [
    {
     "data": {
      "text/plain": [
       "12"
      ]
     },
     "execution_count": 32,
     "metadata": {},
     "output_type": "execute_result"
    }
   ],
   "source": [
    "df['Region'].nunique()"
   ]
  },
  {
   "cell_type": "code",
   "execution_count": 14,
   "id": "b0c28727",
   "metadata": {},
   "outputs": [],
   "source": [
    "# Function for the creation of the date column, and correction of wrong day or month\n",
    "def make_date(df):\n",
    "    new_date = \"\"\n",
    "    year = df['Year']\n",
    "    month = df['Month']\n",
    "    day = df['Day']\n",
    "    \n",
    "    if month < 1:\n",
    "        month = 1\n",
    "        \n",
    "    if day < 1:\n",
    "        day = 1\n",
    "    \n",
    "    new_date = f\"{year}-{month}-{day}\"\n",
    "    \n",
    "    return new_date"
   ]
  },
  {
   "cell_type": "code",
   "execution_count": 15,
   "id": "ee795280",
   "metadata": {},
   "outputs": [],
   "source": [
    "df = df.assign(\n",
    "    Date=df.apply(make_date, axis=1)\n",
    ")\n",
    "df.Date = pd.to_datetime(df.Date)"
   ]
  },
  {
   "cell_type": "code",
   "execution_count": 16,
   "id": "e9909295",
   "metadata": {},
   "outputs": [
    {
     "name": "stdout",
     "output_type": "stream",
     "text": [
      "<class 'pandas.core.frame.DataFrame'>\n",
      "Int64Index: 181691 entries, 0 to 181690\n",
      "Data columns (total 28 columns):\n",
      " #   Column              Non-Null Count   Dtype         \n",
      "---  ------              --------------   -----         \n",
      " 0   Year                181691 non-null  int64         \n",
      " 1   Month               181691 non-null  int64         \n",
      " 2   Day                 181691 non-null  int64         \n",
      " 3   Extended            181691 non-null  int64         \n",
      " 4   Country             181691 non-null  object        \n",
      " 5   Region              181691 non-null  object        \n",
      " 6   City                181691 non-null  object        \n",
      " 7   Success             181691 non-null  int64         \n",
      " 8   Suicide             181691 non-null  int64         \n",
      " 9   Attack_Type         181691 non-null  object        \n",
      " 10  Target_Type         181691 non-null  object        \n",
      " 11  Target_Subtype      181691 non-null  object        \n",
      " 12  Target              181691 non-null  object        \n",
      " 13  Target_Nationality  181691 non-null  object        \n",
      " 14  Attack_Group        181691 non-null  object        \n",
      " 15  Weapon              181691 non-null  object        \n",
      " 16  No_Of_Killed        181691 non-null  float64       \n",
      " 17  No_Of_Wounded       181691 non-null  float64       \n",
      " 18  Property            181691 non-null  int64         \n",
      " 19  country             181691 non-null  int64         \n",
      " 20  region              181691 non-null  int64         \n",
      " 21  attacktype1         181691 non-null  int64         \n",
      " 22  targtype1           181691 non-null  int64         \n",
      " 23  target1             181691 non-null  object        \n",
      " 24  natlty1             181691 non-null  float64       \n",
      " 25  gname               181691 non-null  object        \n",
      " 26  weaptype1           181691 non-null  int64         \n",
      " 27  Date                181691 non-null  datetime64[ns]\n",
      "dtypes: datetime64[ns](1), float64(3), int64(12), object(12)\n",
      "memory usage: 40.2+ MB\n"
     ]
    }
   ],
   "source": [
    "df.info() # to check the data type of the Date column"
   ]
  },
  {
   "cell_type": "code",
   "execution_count": 17,
   "id": "02d7324a",
   "metadata": {},
   "outputs": [],
   "source": [
    "df.drop(['Day', 'Month', 'Date'], axis=1, inplace=True)"
   ]
  },
  {
   "cell_type": "code",
   "execution_count": 19,
   "id": "13cb67cf",
   "metadata": {},
   "outputs": [
    {
     "data": {
      "text/plain": [
       "(181691, 14)"
      ]
     },
     "execution_count": 19,
     "metadata": {},
     "output_type": "execute_result"
    }
   ],
   "source": [
    "#The following columns will be dropped from the predictors_df because it has object as it data type, it was done so as to rescale the dataset\n",
    "independent_var_df = df.drop(columns = ['Attack_Group','Country','Region','City','Attack_Type','Target_Type','Target_Subtype','Target','Target_Nationality','Weapon','gname','target1'], axis=1)\n",
    "independent_var_df.shape"
   ]
  },
  {
   "cell_type": "code",
   "execution_count": 21,
   "id": "fe242500",
   "metadata": {},
   "outputs": [],
   "source": [
    "independent_var_df = independent_var_df.drop(columns = ['Date'], axis=1)"
   ]
  },
  {
   "cell_type": "code",
   "execution_count": 22,
   "id": "33dfe117",
   "metadata": {},
   "outputs": [
    {
     "data": {
      "text/html": [
       "<div>\n",
       "<style scoped>\n",
       "    .dataframe tbody tr th:only-of-type {\n",
       "        vertical-align: middle;\n",
       "    }\n",
       "\n",
       "    .dataframe tbody tr th {\n",
       "        vertical-align: top;\n",
       "    }\n",
       "\n",
       "    .dataframe thead th {\n",
       "        text-align: right;\n",
       "    }\n",
       "</style>\n",
       "<table border=\"1\" class=\"dataframe\">\n",
       "  <thead>\n",
       "    <tr style=\"text-align: right;\">\n",
       "      <th></th>\n",
       "      <th>Year</th>\n",
       "      <th>Extended</th>\n",
       "      <th>Success</th>\n",
       "      <th>Suicide</th>\n",
       "      <th>No_Of_Killed</th>\n",
       "      <th>No_Of_Wounded</th>\n",
       "      <th>Property</th>\n",
       "      <th>country</th>\n",
       "      <th>region</th>\n",
       "      <th>attacktype1</th>\n",
       "      <th>targtype1</th>\n",
       "      <th>natlty1</th>\n",
       "      <th>weaptype1</th>\n",
       "    </tr>\n",
       "  </thead>\n",
       "  <tbody>\n",
       "    <tr>\n",
       "      <th>0</th>\n",
       "      <td>0.0</td>\n",
       "      <td>0.0</td>\n",
       "      <td>1.0</td>\n",
       "      <td>0.0</td>\n",
       "      <td>0.000637</td>\n",
       "      <td>0.0</td>\n",
       "      <td>0.9</td>\n",
       "      <td>0.054</td>\n",
       "      <td>0.090909</td>\n",
       "      <td>0.000</td>\n",
       "      <td>0.619048</td>\n",
       "      <td>0.054</td>\n",
       "      <td>1.000000</td>\n",
       "    </tr>\n",
       "    <tr>\n",
       "      <th>1</th>\n",
       "      <td>0.0</td>\n",
       "      <td>0.0</td>\n",
       "      <td>1.0</td>\n",
       "      <td>0.0</td>\n",
       "      <td>0.000000</td>\n",
       "      <td>0.0</td>\n",
       "      <td>0.9</td>\n",
       "      <td>0.126</td>\n",
       "      <td>0.000000</td>\n",
       "      <td>0.625</td>\n",
       "      <td>0.285714</td>\n",
       "      <td>0.017</td>\n",
       "      <td>1.000000</td>\n",
       "    </tr>\n",
       "    <tr>\n",
       "      <th>2</th>\n",
       "      <td>0.0</td>\n",
       "      <td>0.0</td>\n",
       "      <td>1.0</td>\n",
       "      <td>0.0</td>\n",
       "      <td>0.000637</td>\n",
       "      <td>0.0</td>\n",
       "      <td>0.9</td>\n",
       "      <td>0.156</td>\n",
       "      <td>0.363636</td>\n",
       "      <td>0.000</td>\n",
       "      <td>0.428571</td>\n",
       "      <td>0.213</td>\n",
       "      <td>1.000000</td>\n",
       "    </tr>\n",
       "    <tr>\n",
       "      <th>3</th>\n",
       "      <td>0.0</td>\n",
       "      <td>0.0</td>\n",
       "      <td>1.0</td>\n",
       "      <td>0.0</td>\n",
       "      <td>0.000000</td>\n",
       "      <td>0.0</td>\n",
       "      <td>1.0</td>\n",
       "      <td>0.074</td>\n",
       "      <td>0.636364</td>\n",
       "      <td>0.250</td>\n",
       "      <td>0.285714</td>\n",
       "      <td>0.213</td>\n",
       "      <td>0.416667</td>\n",
       "    </tr>\n",
       "    <tr>\n",
       "      <th>4</th>\n",
       "      <td>0.0</td>\n",
       "      <td>0.0</td>\n",
       "      <td>1.0</td>\n",
       "      <td>0.0</td>\n",
       "      <td>0.000000</td>\n",
       "      <td>0.0</td>\n",
       "      <td>1.0</td>\n",
       "      <td>0.097</td>\n",
       "      <td>0.272727</td>\n",
       "      <td>0.750</td>\n",
       "      <td>0.285714</td>\n",
       "      <td>0.213</td>\n",
       "      <td>0.583333</td>\n",
       "    </tr>\n",
       "  </tbody>\n",
       "</table>\n",
       "</div>"
      ],
      "text/plain": [
       "   Year  Extended  Success  Suicide  No_Of_Killed  No_Of_Wounded  Property  \\\n",
       "0   0.0       0.0      1.0      0.0      0.000637            0.0       0.9   \n",
       "1   0.0       0.0      1.0      0.0      0.000000            0.0       0.9   \n",
       "2   0.0       0.0      1.0      0.0      0.000637            0.0       0.9   \n",
       "3   0.0       0.0      1.0      0.0      0.000000            0.0       1.0   \n",
       "4   0.0       0.0      1.0      0.0      0.000000            0.0       1.0   \n",
       "\n",
       "   country    region  attacktype1  targtype1  natlty1  weaptype1  \n",
       "0    0.054  0.090909        0.000   0.619048    0.054   1.000000  \n",
       "1    0.126  0.000000        0.625   0.285714    0.017   1.000000  \n",
       "2    0.156  0.363636        0.000   0.428571    0.213   1.000000  \n",
       "3    0.074  0.636364        0.250   0.285714    0.213   0.416667  \n",
       "4    0.097  0.272727        0.750   0.285714    0.213   0.583333  "
      ]
     },
     "execution_count": 22,
     "metadata": {},
     "output_type": "execute_result"
    }
   ],
   "source": [
    "#RESCALING OF THE DATASET\n",
    "#Rescaling of the dataset was done due to the large differnce between the minimum and maximum values across the entire dataset\n",
    "#For the rescaling the feature_range will be from 0 t0 1 \n",
    "scaler = MinMaxScaler(feature_range=(0,1))\n",
    "rescaled_df = pd.DataFrame(scaler.fit_transform(independent_var_df), columns= independent_var_df.columns)\n",
    "rescaled_df.head()"
   ]
  },
  {
   "cell_type": "code",
   "execution_count": 23,
   "id": "25fc540f",
   "metadata": {},
   "outputs": [
    {
     "data": {
      "text/html": [
       "<div>\n",
       "<style scoped>\n",
       "    .dataframe tbody tr th:only-of-type {\n",
       "        vertical-align: middle;\n",
       "    }\n",
       "\n",
       "    .dataframe tbody tr th {\n",
       "        vertical-align: top;\n",
       "    }\n",
       "\n",
       "    .dataframe thead th {\n",
       "        text-align: right;\n",
       "    }\n",
       "</style>\n",
       "<table border=\"1\" class=\"dataframe\">\n",
       "  <thead>\n",
       "    <tr style=\"text-align: right;\">\n",
       "      <th></th>\n",
       "      <th>Year</th>\n",
       "      <th>Extended</th>\n",
       "      <th>Success</th>\n",
       "      <th>Suicide</th>\n",
       "      <th>No_Of_Killed</th>\n",
       "      <th>No_Of_Wounded</th>\n",
       "      <th>Property</th>\n",
       "      <th>country</th>\n",
       "      <th>region</th>\n",
       "      <th>attacktype1</th>\n",
       "      <th>targtype1</th>\n",
       "      <th>natlty1</th>\n",
       "      <th>weaptype1</th>\n",
       "    </tr>\n",
       "  </thead>\n",
       "  <tbody>\n",
       "    <tr>\n",
       "      <th>0</th>\n",
       "      <td>0.0</td>\n",
       "      <td>0.0</td>\n",
       "      <td>0.558379</td>\n",
       "      <td>0.0</td>\n",
       "      <td>0.000356</td>\n",
       "      <td>0.0</td>\n",
       "      <td>0.502541</td>\n",
       "      <td>0.030152</td>\n",
       "      <td>0.050762</td>\n",
       "      <td>0.000000</td>\n",
       "      <td>0.345663</td>\n",
       "      <td>0.030152</td>\n",
       "      <td>0.558379</td>\n",
       "    </tr>\n",
       "    <tr>\n",
       "      <th>1</th>\n",
       "      <td>0.0</td>\n",
       "      <td>0.0</td>\n",
       "      <td>0.550613</td>\n",
       "      <td>0.0</td>\n",
       "      <td>0.000000</td>\n",
       "      <td>0.0</td>\n",
       "      <td>0.495552</td>\n",
       "      <td>0.069377</td>\n",
       "      <td>0.000000</td>\n",
       "      <td>0.344133</td>\n",
       "      <td>0.157318</td>\n",
       "      <td>0.009360</td>\n",
       "      <td>0.550613</td>\n",
       "    </tr>\n",
       "    <tr>\n",
       "      <th>2</th>\n",
       "      <td>0.0</td>\n",
       "      <td>0.0</td>\n",
       "      <td>0.559401</td>\n",
       "      <td>0.0</td>\n",
       "      <td>0.000356</td>\n",
       "      <td>0.0</td>\n",
       "      <td>0.503461</td>\n",
       "      <td>0.087267</td>\n",
       "      <td>0.203418</td>\n",
       "      <td>0.000000</td>\n",
       "      <td>0.239743</td>\n",
       "      <td>0.119152</td>\n",
       "      <td>0.559401</td>\n",
       "    </tr>\n",
       "    <tr>\n",
       "      <th>3</th>\n",
       "      <td>0.0</td>\n",
       "      <td>0.0</td>\n",
       "      <td>0.600457</td>\n",
       "      <td>0.0</td>\n",
       "      <td>0.000000</td>\n",
       "      <td>0.0</td>\n",
       "      <td>0.600457</td>\n",
       "      <td>0.044434</td>\n",
       "      <td>0.382109</td>\n",
       "      <td>0.150114</td>\n",
       "      <td>0.171559</td>\n",
       "      <td>0.127897</td>\n",
       "      <td>0.250191</td>\n",
       "    </tr>\n",
       "    <tr>\n",
       "      <th>4</th>\n",
       "      <td>0.0</td>\n",
       "      <td>0.0</td>\n",
       "      <td>0.566723</td>\n",
       "      <td>0.0</td>\n",
       "      <td>0.000000</td>\n",
       "      <td>0.0</td>\n",
       "      <td>0.566723</td>\n",
       "      <td>0.054972</td>\n",
       "      <td>0.154561</td>\n",
       "      <td>0.425042</td>\n",
       "      <td>0.161921</td>\n",
       "      <td>0.120712</td>\n",
       "      <td>0.330588</td>\n",
       "    </tr>\n",
       "  </tbody>\n",
       "</table>\n",
       "</div>"
      ],
      "text/plain": [
       "   Year  Extended   Success  Suicide  No_Of_Killed  No_Of_Wounded  Property  \\\n",
       "0   0.0       0.0  0.558379      0.0      0.000356            0.0  0.502541   \n",
       "1   0.0       0.0  0.550613      0.0      0.000000            0.0  0.495552   \n",
       "2   0.0       0.0  0.559401      0.0      0.000356            0.0  0.503461   \n",
       "3   0.0       0.0  0.600457      0.0      0.000000            0.0  0.600457   \n",
       "4   0.0       0.0  0.566723      0.0      0.000000            0.0  0.566723   \n",
       "\n",
       "    country    region  attacktype1  targtype1   natlty1  weaptype1  \n",
       "0  0.030152  0.050762     0.000000   0.345663  0.030152   0.558379  \n",
       "1  0.069377  0.000000     0.344133   0.157318  0.009360   0.550613  \n",
       "2  0.087267  0.203418     0.000000   0.239743  0.119152   0.559401  \n",
       "3  0.044434  0.382109     0.150114   0.171559  0.127897   0.250191  \n",
       "4  0.054972  0.154561     0.425042   0.161921  0.120712   0.330588  "
      ]
     },
     "execution_count": 23,
     "metadata": {},
     "output_type": "execute_result"
    }
   ],
   "source": [
    "#NORMALIZATION\n",
    "#From the visualization of the distribution using histogram it can be seen that some features in the dataset were not normal\n",
    "#Therefore normalization was done to remove skewness from the dataset\n",
    "scaler = Normalizer()\n",
    "normalized_df = pd.DataFrame(scaler.fit_transform(rescaled_df), columns= rescaled_df.columns)\n",
    "normalized_df.head()"
   ]
  },
  {
   "cell_type": "code",
   "execution_count": 36,
   "id": "b40d731b",
   "metadata": {
    "scrolled": true
   },
   "outputs": [
    {
     "data": {
      "text/plain": [
       "array(['Central America & Caribbean', 'North America', 'Southeast Asia',\n",
       "       'Western Europe', 'East Asia', 'South America', 'Eastern Europe',\n",
       "       'Sub-Saharan Africa', 'Middle East & North Africa',\n",
       "       'Australasia & Oceania', 'South Asia', 'Central Asia'],\n",
       "      dtype=object)"
      ]
     },
     "execution_count": 36,
     "metadata": {},
     "output_type": "execute_result"
    }
   ],
   "source": [
    "df['Region'].unique()"
   ]
  },
  {
   "cell_type": "code",
   "execution_count": null,
   "id": "8985b9fb",
   "metadata": {},
   "outputs": [],
   "source": [
    "from sklearn import preprocessing\n",
    "le = preprocessing.LabelEncoder()"
   ]
  },
  {
   "cell_type": "code",
   "execution_count": 38,
   "id": "de305907",
   "metadata": {},
   "outputs": [],
   "source": [
    "mapper = {'Central America & Caribbean': 0, 'North America' : 1, 'Southeast Asia' : 2, 'Western Europe' : 3, 'East Asia' : 4,  'South America': 5, 'Eastern Europe':6,\n",
    "       'Sub-Saharan Africa' : 7 , 'Middle East & North Africa' : 8, 'Australasia & Oceania':9, 'South Asia': 10, 'Central Asia' : 11 }\n",
    "\n",
    "df['Region'] = df['Region'].map(mapper)"
   ]
  },
  {
   "cell_type": "code",
   "execution_count": 40,
   "id": "0beda01a",
   "metadata": {},
   "outputs": [
    {
     "data": {
      "text/plain": [
       "dtype('int64')"
      ]
     },
     "execution_count": 40,
     "metadata": {},
     "output_type": "execute_result"
    }
   ],
   "source": [
    "df['Region'].dtype"
   ]
  },
  {
   "cell_type": "code",
   "execution_count": 41,
   "id": "9d1c7163",
   "metadata": {},
   "outputs": [],
   "source": [
    "X = normalized_df\n",
    "y= df['Region']"
   ]
  },
  {
   "cell_type": "code",
   "execution_count": 42,
   "id": "b74c1d98",
   "metadata": {},
   "outputs": [],
   "source": [
    "from sklearn.model_selection import train_test_split\n",
    "X_train, X_test, y_train, y_test = train_test_split(X, y, test_size = 0.3, random_state = 42)"
   ]
  },
  {
   "cell_type": "code",
   "execution_count": 43,
   "id": "a7cbc8fb",
   "metadata": {},
   "outputs": [],
   "source": [
    "from sklearn.metrics import accuracy_score\n",
    "from sklearn.model_selection import cross_val_score\n",
    "from sklearn.linear_model import LogisticRegression\n",
    "from sklearn.tree import DecisionTreeClassifier\n",
    "from sklearn.svm import SVC\n",
    "from sklearn.neighbors import KNeighborsClassifier\n",
    "from sklearn.ensemble import RandomForestClassifier\n",
    "from sklearn.ensemble import GradientBoostingClassifier\n",
    "#from sklearn.neural_network import MLPClassifier\n",
    "\n",
    "clf = [ LogisticRegression(random_state=2), DecisionTreeClassifier(random_state=2), SVC (random_state=2),\n",
    "       RandomForestClassifier(random_state=2), GradientBoostingClassifier(random_state=2) ]\n",
    "models = [ 'Logistic Regression', 'Tree', 'Support vector machine', 'RFC', 'Gradient boost' ]\n",
    "\n"
   ]
  },
  {
   "cell_type": "code",
   "execution_count": 44,
   "id": "8ef57502",
   "metadata": {},
   "outputs": [
    {
     "name": "stdout",
     "output_type": "stream",
     "text": [
      "Cross validation score of Logistic Regression: 0.795 \n",
      "\n",
      "Cross validation score of Tree: 0.992 \n",
      "\n"
     ]
    },
    {
     "ename": "KeyboardInterrupt",
     "evalue": "",
     "output_type": "error",
     "traceback": [
      "\u001b[1;31m---------------------------------------------------------------------------\u001b[0m",
      "\u001b[1;31mKeyboardInterrupt\u001b[0m                         Traceback (most recent call last)",
      "\u001b[1;32m~\\AppData\\Local\\Temp/ipykernel_12316/3086952360.py\u001b[0m in \u001b[0;36m<module>\u001b[1;34m\u001b[0m\n\u001b[0;32m      2\u001b[0m   \u001b[0mclf\u001b[0m\u001b[1;33m.\u001b[0m\u001b[0mfit\u001b[0m \u001b[1;33m(\u001b[0m \u001b[0mX_train\u001b[0m\u001b[1;33m,\u001b[0m \u001b[0my_train\u001b[0m \u001b[1;33m)\u001b[0m\u001b[1;33m\u001b[0m\u001b[1;33m\u001b[0m\u001b[0m\n\u001b[0;32m      3\u001b[0m   \u001b[0my_pred\u001b[0m \u001b[1;33m=\u001b[0m \u001b[0mclf\u001b[0m\u001b[1;33m.\u001b[0m\u001b[0mpredict\u001b[0m \u001b[1;33m(\u001b[0m \u001b[0mX_test\u001b[0m \u001b[1;33m)\u001b[0m\u001b[1;33m\u001b[0m\u001b[1;33m\u001b[0m\u001b[0m\n\u001b[1;32m----> 4\u001b[1;33m   \u001b[0mprint\u001b[0m \u001b[1;33m(\u001b[0m \u001b[1;34mf'Cross validation score of {model}: %.3f \\n'\u001b[0m \u001b[1;33m%\u001b[0m\u001b[0mcross_val_score\u001b[0m \u001b[1;33m(\u001b[0m\u001b[0mclf\u001b[0m\u001b[1;33m,\u001b[0m \u001b[0mX_train\u001b[0m\u001b[1;33m,\u001b[0m \u001b[0my_train\u001b[0m\u001b[1;33m,\u001b[0m \u001b[0mcv\u001b[0m\u001b[1;33m=\u001b[0m\u001b[1;36m5\u001b[0m\u001b[1;33m)\u001b[0m\u001b[1;33m.\u001b[0m\u001b[0mmean\u001b[0m\u001b[1;33m(\u001b[0m\u001b[1;33m)\u001b[0m \u001b[1;33m)\u001b[0m\u001b[1;33m\u001b[0m\u001b[1;33m\u001b[0m\u001b[0m\n\u001b[0m",
      "\u001b[1;32m~\\anaconda3\\lib\\site-packages\\sklearn\\utils\\validation.py\u001b[0m in \u001b[0;36minner_f\u001b[1;34m(*args, **kwargs)\u001b[0m\n\u001b[0;32m     61\u001b[0m             \u001b[0mextra_args\u001b[0m \u001b[1;33m=\u001b[0m \u001b[0mlen\u001b[0m\u001b[1;33m(\u001b[0m\u001b[0margs\u001b[0m\u001b[1;33m)\u001b[0m \u001b[1;33m-\u001b[0m \u001b[0mlen\u001b[0m\u001b[1;33m(\u001b[0m\u001b[0mall_args\u001b[0m\u001b[1;33m)\u001b[0m\u001b[1;33m\u001b[0m\u001b[1;33m\u001b[0m\u001b[0m\n\u001b[0;32m     62\u001b[0m             \u001b[1;32mif\u001b[0m \u001b[0mextra_args\u001b[0m \u001b[1;33m<=\u001b[0m \u001b[1;36m0\u001b[0m\u001b[1;33m:\u001b[0m\u001b[1;33m\u001b[0m\u001b[1;33m\u001b[0m\u001b[0m\n\u001b[1;32m---> 63\u001b[1;33m                 \u001b[1;32mreturn\u001b[0m \u001b[0mf\u001b[0m\u001b[1;33m(\u001b[0m\u001b[1;33m*\u001b[0m\u001b[0margs\u001b[0m\u001b[1;33m,\u001b[0m \u001b[1;33m**\u001b[0m\u001b[0mkwargs\u001b[0m\u001b[1;33m)\u001b[0m\u001b[1;33m\u001b[0m\u001b[1;33m\u001b[0m\u001b[0m\n\u001b[0m\u001b[0;32m     64\u001b[0m \u001b[1;33m\u001b[0m\u001b[0m\n\u001b[0;32m     65\u001b[0m             \u001b[1;31m# extra_args > 0\u001b[0m\u001b[1;33m\u001b[0m\u001b[1;33m\u001b[0m\u001b[0m\n",
      "\u001b[1;32m~\\anaconda3\\lib\\site-packages\\sklearn\\model_selection\\_validation.py\u001b[0m in \u001b[0;36mcross_val_score\u001b[1;34m(estimator, X, y, groups, scoring, cv, n_jobs, verbose, fit_params, pre_dispatch, error_score)\u001b[0m\n\u001b[0;32m    443\u001b[0m     \u001b[0mscorer\u001b[0m \u001b[1;33m=\u001b[0m \u001b[0mcheck_scoring\u001b[0m\u001b[1;33m(\u001b[0m\u001b[0mestimator\u001b[0m\u001b[1;33m,\u001b[0m \u001b[0mscoring\u001b[0m\u001b[1;33m=\u001b[0m\u001b[0mscoring\u001b[0m\u001b[1;33m)\u001b[0m\u001b[1;33m\u001b[0m\u001b[1;33m\u001b[0m\u001b[0m\n\u001b[0;32m    444\u001b[0m \u001b[1;33m\u001b[0m\u001b[0m\n\u001b[1;32m--> 445\u001b[1;33m     cv_results = cross_validate(estimator=estimator, X=X, y=y, groups=groups,\n\u001b[0m\u001b[0;32m    446\u001b[0m                                 \u001b[0mscoring\u001b[0m\u001b[1;33m=\u001b[0m\u001b[1;33m{\u001b[0m\u001b[1;34m'score'\u001b[0m\u001b[1;33m:\u001b[0m \u001b[0mscorer\u001b[0m\u001b[1;33m}\u001b[0m\u001b[1;33m,\u001b[0m \u001b[0mcv\u001b[0m\u001b[1;33m=\u001b[0m\u001b[0mcv\u001b[0m\u001b[1;33m,\u001b[0m\u001b[1;33m\u001b[0m\u001b[1;33m\u001b[0m\u001b[0m\n\u001b[0;32m    447\u001b[0m                                 \u001b[0mn_jobs\u001b[0m\u001b[1;33m=\u001b[0m\u001b[0mn_jobs\u001b[0m\u001b[1;33m,\u001b[0m \u001b[0mverbose\u001b[0m\u001b[1;33m=\u001b[0m\u001b[0mverbose\u001b[0m\u001b[1;33m,\u001b[0m\u001b[1;33m\u001b[0m\u001b[1;33m\u001b[0m\u001b[0m\n",
      "\u001b[1;32m~\\anaconda3\\lib\\site-packages\\sklearn\\utils\\validation.py\u001b[0m in \u001b[0;36minner_f\u001b[1;34m(*args, **kwargs)\u001b[0m\n\u001b[0;32m     61\u001b[0m             \u001b[0mextra_args\u001b[0m \u001b[1;33m=\u001b[0m \u001b[0mlen\u001b[0m\u001b[1;33m(\u001b[0m\u001b[0margs\u001b[0m\u001b[1;33m)\u001b[0m \u001b[1;33m-\u001b[0m \u001b[0mlen\u001b[0m\u001b[1;33m(\u001b[0m\u001b[0mall_args\u001b[0m\u001b[1;33m)\u001b[0m\u001b[1;33m\u001b[0m\u001b[1;33m\u001b[0m\u001b[0m\n\u001b[0;32m     62\u001b[0m             \u001b[1;32mif\u001b[0m \u001b[0mextra_args\u001b[0m \u001b[1;33m<=\u001b[0m \u001b[1;36m0\u001b[0m\u001b[1;33m:\u001b[0m\u001b[1;33m\u001b[0m\u001b[1;33m\u001b[0m\u001b[0m\n\u001b[1;32m---> 63\u001b[1;33m                 \u001b[1;32mreturn\u001b[0m \u001b[0mf\u001b[0m\u001b[1;33m(\u001b[0m\u001b[1;33m*\u001b[0m\u001b[0margs\u001b[0m\u001b[1;33m,\u001b[0m \u001b[1;33m**\u001b[0m\u001b[0mkwargs\u001b[0m\u001b[1;33m)\u001b[0m\u001b[1;33m\u001b[0m\u001b[1;33m\u001b[0m\u001b[0m\n\u001b[0m\u001b[0;32m     64\u001b[0m \u001b[1;33m\u001b[0m\u001b[0m\n\u001b[0;32m     65\u001b[0m             \u001b[1;31m# extra_args > 0\u001b[0m\u001b[1;33m\u001b[0m\u001b[1;33m\u001b[0m\u001b[0m\n",
      "\u001b[1;32m~\\anaconda3\\lib\\site-packages\\sklearn\\model_selection\\_validation.py\u001b[0m in \u001b[0;36mcross_validate\u001b[1;34m(estimator, X, y, groups, scoring, cv, n_jobs, verbose, fit_params, pre_dispatch, return_train_score, return_estimator, error_score)\u001b[0m\n\u001b[0;32m    248\u001b[0m     parallel = Parallel(n_jobs=n_jobs, verbose=verbose,\n\u001b[0;32m    249\u001b[0m                         pre_dispatch=pre_dispatch)\n\u001b[1;32m--> 250\u001b[1;33m     results = parallel(\n\u001b[0m\u001b[0;32m    251\u001b[0m         delayed(_fit_and_score)(\n\u001b[0;32m    252\u001b[0m             \u001b[0mclone\u001b[0m\u001b[1;33m(\u001b[0m\u001b[0mestimator\u001b[0m\u001b[1;33m)\u001b[0m\u001b[1;33m,\u001b[0m \u001b[0mX\u001b[0m\u001b[1;33m,\u001b[0m \u001b[0my\u001b[0m\u001b[1;33m,\u001b[0m \u001b[0mscorers\u001b[0m\u001b[1;33m,\u001b[0m \u001b[0mtrain\u001b[0m\u001b[1;33m,\u001b[0m \u001b[0mtest\u001b[0m\u001b[1;33m,\u001b[0m \u001b[0mverbose\u001b[0m\u001b[1;33m,\u001b[0m \u001b[1;32mNone\u001b[0m\u001b[1;33m,\u001b[0m\u001b[1;33m\u001b[0m\u001b[1;33m\u001b[0m\u001b[0m\n",
      "\u001b[1;32m~\\anaconda3\\lib\\site-packages\\joblib\\parallel.py\u001b[0m in \u001b[0;36m__call__\u001b[1;34m(self, iterable)\u001b[0m\n\u001b[0;32m   1044\u001b[0m                 \u001b[0mself\u001b[0m\u001b[1;33m.\u001b[0m\u001b[0m_iterating\u001b[0m \u001b[1;33m=\u001b[0m \u001b[0mself\u001b[0m\u001b[1;33m.\u001b[0m\u001b[0m_original_iterator\u001b[0m \u001b[1;32mis\u001b[0m \u001b[1;32mnot\u001b[0m \u001b[1;32mNone\u001b[0m\u001b[1;33m\u001b[0m\u001b[1;33m\u001b[0m\u001b[0m\n\u001b[0;32m   1045\u001b[0m \u001b[1;33m\u001b[0m\u001b[0m\n\u001b[1;32m-> 1046\u001b[1;33m             \u001b[1;32mwhile\u001b[0m \u001b[0mself\u001b[0m\u001b[1;33m.\u001b[0m\u001b[0mdispatch_one_batch\u001b[0m\u001b[1;33m(\u001b[0m\u001b[0miterator\u001b[0m\u001b[1;33m)\u001b[0m\u001b[1;33m:\u001b[0m\u001b[1;33m\u001b[0m\u001b[1;33m\u001b[0m\u001b[0m\n\u001b[0m\u001b[0;32m   1047\u001b[0m                 \u001b[1;32mpass\u001b[0m\u001b[1;33m\u001b[0m\u001b[1;33m\u001b[0m\u001b[0m\n\u001b[0;32m   1048\u001b[0m \u001b[1;33m\u001b[0m\u001b[0m\n",
      "\u001b[1;32m~\\anaconda3\\lib\\site-packages\\joblib\\parallel.py\u001b[0m in \u001b[0;36mdispatch_one_batch\u001b[1;34m(self, iterator)\u001b[0m\n\u001b[0;32m    859\u001b[0m                 \u001b[1;32mreturn\u001b[0m \u001b[1;32mFalse\u001b[0m\u001b[1;33m\u001b[0m\u001b[1;33m\u001b[0m\u001b[0m\n\u001b[0;32m    860\u001b[0m             \u001b[1;32melse\u001b[0m\u001b[1;33m:\u001b[0m\u001b[1;33m\u001b[0m\u001b[1;33m\u001b[0m\u001b[0m\n\u001b[1;32m--> 861\u001b[1;33m                 \u001b[0mself\u001b[0m\u001b[1;33m.\u001b[0m\u001b[0m_dispatch\u001b[0m\u001b[1;33m(\u001b[0m\u001b[0mtasks\u001b[0m\u001b[1;33m)\u001b[0m\u001b[1;33m\u001b[0m\u001b[1;33m\u001b[0m\u001b[0m\n\u001b[0m\u001b[0;32m    862\u001b[0m                 \u001b[1;32mreturn\u001b[0m \u001b[1;32mTrue\u001b[0m\u001b[1;33m\u001b[0m\u001b[1;33m\u001b[0m\u001b[0m\n\u001b[0;32m    863\u001b[0m \u001b[1;33m\u001b[0m\u001b[0m\n",
      "\u001b[1;32m~\\anaconda3\\lib\\site-packages\\joblib\\parallel.py\u001b[0m in \u001b[0;36m_dispatch\u001b[1;34m(self, batch)\u001b[0m\n\u001b[0;32m    777\u001b[0m         \u001b[1;32mwith\u001b[0m \u001b[0mself\u001b[0m\u001b[1;33m.\u001b[0m\u001b[0m_lock\u001b[0m\u001b[1;33m:\u001b[0m\u001b[1;33m\u001b[0m\u001b[1;33m\u001b[0m\u001b[0m\n\u001b[0;32m    778\u001b[0m             \u001b[0mjob_idx\u001b[0m \u001b[1;33m=\u001b[0m \u001b[0mlen\u001b[0m\u001b[1;33m(\u001b[0m\u001b[0mself\u001b[0m\u001b[1;33m.\u001b[0m\u001b[0m_jobs\u001b[0m\u001b[1;33m)\u001b[0m\u001b[1;33m\u001b[0m\u001b[1;33m\u001b[0m\u001b[0m\n\u001b[1;32m--> 779\u001b[1;33m             \u001b[0mjob\u001b[0m \u001b[1;33m=\u001b[0m \u001b[0mself\u001b[0m\u001b[1;33m.\u001b[0m\u001b[0m_backend\u001b[0m\u001b[1;33m.\u001b[0m\u001b[0mapply_async\u001b[0m\u001b[1;33m(\u001b[0m\u001b[0mbatch\u001b[0m\u001b[1;33m,\u001b[0m \u001b[0mcallback\u001b[0m\u001b[1;33m=\u001b[0m\u001b[0mcb\u001b[0m\u001b[1;33m)\u001b[0m\u001b[1;33m\u001b[0m\u001b[1;33m\u001b[0m\u001b[0m\n\u001b[0m\u001b[0;32m    780\u001b[0m             \u001b[1;31m# A job can complete so quickly than its callback is\u001b[0m\u001b[1;33m\u001b[0m\u001b[1;33m\u001b[0m\u001b[0m\n\u001b[0;32m    781\u001b[0m             \u001b[1;31m# called before we get here, causing self._jobs to\u001b[0m\u001b[1;33m\u001b[0m\u001b[1;33m\u001b[0m\u001b[0m\n",
      "\u001b[1;32m~\\anaconda3\\lib\\site-packages\\joblib\\_parallel_backends.py\u001b[0m in \u001b[0;36mapply_async\u001b[1;34m(self, func, callback)\u001b[0m\n\u001b[0;32m    206\u001b[0m     \u001b[1;32mdef\u001b[0m \u001b[0mapply_async\u001b[0m\u001b[1;33m(\u001b[0m\u001b[0mself\u001b[0m\u001b[1;33m,\u001b[0m \u001b[0mfunc\u001b[0m\u001b[1;33m,\u001b[0m \u001b[0mcallback\u001b[0m\u001b[1;33m=\u001b[0m\u001b[1;32mNone\u001b[0m\u001b[1;33m)\u001b[0m\u001b[1;33m:\u001b[0m\u001b[1;33m\u001b[0m\u001b[1;33m\u001b[0m\u001b[0m\n\u001b[0;32m    207\u001b[0m         \u001b[1;34m\"\"\"Schedule a func to be run\"\"\"\u001b[0m\u001b[1;33m\u001b[0m\u001b[1;33m\u001b[0m\u001b[0m\n\u001b[1;32m--> 208\u001b[1;33m         \u001b[0mresult\u001b[0m \u001b[1;33m=\u001b[0m \u001b[0mImmediateResult\u001b[0m\u001b[1;33m(\u001b[0m\u001b[0mfunc\u001b[0m\u001b[1;33m)\u001b[0m\u001b[1;33m\u001b[0m\u001b[1;33m\u001b[0m\u001b[0m\n\u001b[0m\u001b[0;32m    209\u001b[0m         \u001b[1;32mif\u001b[0m \u001b[0mcallback\u001b[0m\u001b[1;33m:\u001b[0m\u001b[1;33m\u001b[0m\u001b[1;33m\u001b[0m\u001b[0m\n\u001b[0;32m    210\u001b[0m             \u001b[0mcallback\u001b[0m\u001b[1;33m(\u001b[0m\u001b[0mresult\u001b[0m\u001b[1;33m)\u001b[0m\u001b[1;33m\u001b[0m\u001b[1;33m\u001b[0m\u001b[0m\n",
      "\u001b[1;32m~\\anaconda3\\lib\\site-packages\\joblib\\_parallel_backends.py\u001b[0m in \u001b[0;36m__init__\u001b[1;34m(self, batch)\u001b[0m\n\u001b[0;32m    570\u001b[0m         \u001b[1;31m# Don't delay the application, to avoid keeping the input\u001b[0m\u001b[1;33m\u001b[0m\u001b[1;33m\u001b[0m\u001b[0m\n\u001b[0;32m    571\u001b[0m         \u001b[1;31m# arguments in memory\u001b[0m\u001b[1;33m\u001b[0m\u001b[1;33m\u001b[0m\u001b[0m\n\u001b[1;32m--> 572\u001b[1;33m         \u001b[0mself\u001b[0m\u001b[1;33m.\u001b[0m\u001b[0mresults\u001b[0m \u001b[1;33m=\u001b[0m \u001b[0mbatch\u001b[0m\u001b[1;33m(\u001b[0m\u001b[1;33m)\u001b[0m\u001b[1;33m\u001b[0m\u001b[1;33m\u001b[0m\u001b[0m\n\u001b[0m\u001b[0;32m    573\u001b[0m \u001b[1;33m\u001b[0m\u001b[0m\n\u001b[0;32m    574\u001b[0m     \u001b[1;32mdef\u001b[0m \u001b[0mget\u001b[0m\u001b[1;33m(\u001b[0m\u001b[0mself\u001b[0m\u001b[1;33m)\u001b[0m\u001b[1;33m:\u001b[0m\u001b[1;33m\u001b[0m\u001b[1;33m\u001b[0m\u001b[0m\n",
      "\u001b[1;32m~\\anaconda3\\lib\\site-packages\\joblib\\parallel.py\u001b[0m in \u001b[0;36m__call__\u001b[1;34m(self)\u001b[0m\n\u001b[0;32m    260\u001b[0m         \u001b[1;31m# change the default number of processes to -1\u001b[0m\u001b[1;33m\u001b[0m\u001b[1;33m\u001b[0m\u001b[0m\n\u001b[0;32m    261\u001b[0m         \u001b[1;32mwith\u001b[0m \u001b[0mparallel_backend\u001b[0m\u001b[1;33m(\u001b[0m\u001b[0mself\u001b[0m\u001b[1;33m.\u001b[0m\u001b[0m_backend\u001b[0m\u001b[1;33m,\u001b[0m \u001b[0mn_jobs\u001b[0m\u001b[1;33m=\u001b[0m\u001b[0mself\u001b[0m\u001b[1;33m.\u001b[0m\u001b[0m_n_jobs\u001b[0m\u001b[1;33m)\u001b[0m\u001b[1;33m:\u001b[0m\u001b[1;33m\u001b[0m\u001b[1;33m\u001b[0m\u001b[0m\n\u001b[1;32m--> 262\u001b[1;33m             return [func(*args, **kwargs)\n\u001b[0m\u001b[0;32m    263\u001b[0m                     for func, args, kwargs in self.items]\n\u001b[0;32m    264\u001b[0m \u001b[1;33m\u001b[0m\u001b[0m\n",
      "\u001b[1;32m~\\anaconda3\\lib\\site-packages\\joblib\\parallel.py\u001b[0m in \u001b[0;36m<listcomp>\u001b[1;34m(.0)\u001b[0m\n\u001b[0;32m    260\u001b[0m         \u001b[1;31m# change the default number of processes to -1\u001b[0m\u001b[1;33m\u001b[0m\u001b[1;33m\u001b[0m\u001b[0m\n\u001b[0;32m    261\u001b[0m         \u001b[1;32mwith\u001b[0m \u001b[0mparallel_backend\u001b[0m\u001b[1;33m(\u001b[0m\u001b[0mself\u001b[0m\u001b[1;33m.\u001b[0m\u001b[0m_backend\u001b[0m\u001b[1;33m,\u001b[0m \u001b[0mn_jobs\u001b[0m\u001b[1;33m=\u001b[0m\u001b[0mself\u001b[0m\u001b[1;33m.\u001b[0m\u001b[0m_n_jobs\u001b[0m\u001b[1;33m)\u001b[0m\u001b[1;33m:\u001b[0m\u001b[1;33m\u001b[0m\u001b[1;33m\u001b[0m\u001b[0m\n\u001b[1;32m--> 262\u001b[1;33m             return [func(*args, **kwargs)\n\u001b[0m\u001b[0;32m    263\u001b[0m                     for func, args, kwargs in self.items]\n\u001b[0;32m    264\u001b[0m \u001b[1;33m\u001b[0m\u001b[0m\n",
      "\u001b[1;32m~\\anaconda3\\lib\\site-packages\\sklearn\\utils\\fixes.py\u001b[0m in \u001b[0;36m__call__\u001b[1;34m(self, *args, **kwargs)\u001b[0m\n\u001b[0;32m    220\u001b[0m     \u001b[1;32mdef\u001b[0m \u001b[0m__call__\u001b[0m\u001b[1;33m(\u001b[0m\u001b[0mself\u001b[0m\u001b[1;33m,\u001b[0m \u001b[1;33m*\u001b[0m\u001b[0margs\u001b[0m\u001b[1;33m,\u001b[0m \u001b[1;33m**\u001b[0m\u001b[0mkwargs\u001b[0m\u001b[1;33m)\u001b[0m\u001b[1;33m:\u001b[0m\u001b[1;33m\u001b[0m\u001b[1;33m\u001b[0m\u001b[0m\n\u001b[0;32m    221\u001b[0m         \u001b[1;32mwith\u001b[0m \u001b[0mconfig_context\u001b[0m\u001b[1;33m(\u001b[0m\u001b[1;33m**\u001b[0m\u001b[0mself\u001b[0m\u001b[1;33m.\u001b[0m\u001b[0mconfig\u001b[0m\u001b[1;33m)\u001b[0m\u001b[1;33m:\u001b[0m\u001b[1;33m\u001b[0m\u001b[1;33m\u001b[0m\u001b[0m\n\u001b[1;32m--> 222\u001b[1;33m             \u001b[1;32mreturn\u001b[0m \u001b[0mself\u001b[0m\u001b[1;33m.\u001b[0m\u001b[0mfunction\u001b[0m\u001b[1;33m(\u001b[0m\u001b[1;33m*\u001b[0m\u001b[0margs\u001b[0m\u001b[1;33m,\u001b[0m \u001b[1;33m**\u001b[0m\u001b[0mkwargs\u001b[0m\u001b[1;33m)\u001b[0m\u001b[1;33m\u001b[0m\u001b[1;33m\u001b[0m\u001b[0m\n\u001b[0m",
      "\u001b[1;32m~\\anaconda3\\lib\\site-packages\\sklearn\\model_selection\\_validation.py\u001b[0m in \u001b[0;36m_fit_and_score\u001b[1;34m(estimator, X, y, scorer, train, test, verbose, parameters, fit_params, return_train_score, return_parameters, return_n_test_samples, return_times, return_estimator, split_progress, candidate_progress, error_score)\u001b[0m\n\u001b[0;32m    596\u001b[0m             \u001b[0mestimator\u001b[0m\u001b[1;33m.\u001b[0m\u001b[0mfit\u001b[0m\u001b[1;33m(\u001b[0m\u001b[0mX_train\u001b[0m\u001b[1;33m,\u001b[0m \u001b[1;33m**\u001b[0m\u001b[0mfit_params\u001b[0m\u001b[1;33m)\u001b[0m\u001b[1;33m\u001b[0m\u001b[1;33m\u001b[0m\u001b[0m\n\u001b[0;32m    597\u001b[0m         \u001b[1;32melse\u001b[0m\u001b[1;33m:\u001b[0m\u001b[1;33m\u001b[0m\u001b[1;33m\u001b[0m\u001b[0m\n\u001b[1;32m--> 598\u001b[1;33m             \u001b[0mestimator\u001b[0m\u001b[1;33m.\u001b[0m\u001b[0mfit\u001b[0m\u001b[1;33m(\u001b[0m\u001b[0mX_train\u001b[0m\u001b[1;33m,\u001b[0m \u001b[0my_train\u001b[0m\u001b[1;33m,\u001b[0m \u001b[1;33m**\u001b[0m\u001b[0mfit_params\u001b[0m\u001b[1;33m)\u001b[0m\u001b[1;33m\u001b[0m\u001b[1;33m\u001b[0m\u001b[0m\n\u001b[0m\u001b[0;32m    599\u001b[0m \u001b[1;33m\u001b[0m\u001b[0m\n\u001b[0;32m    600\u001b[0m     \u001b[1;32mexcept\u001b[0m \u001b[0mException\u001b[0m \u001b[1;32mas\u001b[0m \u001b[0me\u001b[0m\u001b[1;33m:\u001b[0m\u001b[1;33m\u001b[0m\u001b[1;33m\u001b[0m\u001b[0m\n",
      "\u001b[1;32m~\\anaconda3\\lib\\site-packages\\sklearn\\svm\\_base.py\u001b[0m in \u001b[0;36mfit\u001b[1;34m(self, X, y, sample_weight)\u001b[0m\n\u001b[0;32m    224\u001b[0m \u001b[1;33m\u001b[0m\u001b[0m\n\u001b[0;32m    225\u001b[0m         \u001b[0mseed\u001b[0m \u001b[1;33m=\u001b[0m \u001b[0mrnd\u001b[0m\u001b[1;33m.\u001b[0m\u001b[0mrandint\u001b[0m\u001b[1;33m(\u001b[0m\u001b[0mnp\u001b[0m\u001b[1;33m.\u001b[0m\u001b[0miinfo\u001b[0m\u001b[1;33m(\u001b[0m\u001b[1;34m'i'\u001b[0m\u001b[1;33m)\u001b[0m\u001b[1;33m.\u001b[0m\u001b[0mmax\u001b[0m\u001b[1;33m)\u001b[0m\u001b[1;33m\u001b[0m\u001b[1;33m\u001b[0m\u001b[0m\n\u001b[1;32m--> 226\u001b[1;33m         \u001b[0mfit\u001b[0m\u001b[1;33m(\u001b[0m\u001b[0mX\u001b[0m\u001b[1;33m,\u001b[0m \u001b[0my\u001b[0m\u001b[1;33m,\u001b[0m \u001b[0msample_weight\u001b[0m\u001b[1;33m,\u001b[0m \u001b[0msolver_type\u001b[0m\u001b[1;33m,\u001b[0m \u001b[0mkernel\u001b[0m\u001b[1;33m,\u001b[0m \u001b[0mrandom_seed\u001b[0m\u001b[1;33m=\u001b[0m\u001b[0mseed\u001b[0m\u001b[1;33m)\u001b[0m\u001b[1;33m\u001b[0m\u001b[1;33m\u001b[0m\u001b[0m\n\u001b[0m\u001b[0;32m    227\u001b[0m         \u001b[1;31m# see comment on the other call to np.iinfo in this file\u001b[0m\u001b[1;33m\u001b[0m\u001b[1;33m\u001b[0m\u001b[0m\n\u001b[0;32m    228\u001b[0m \u001b[1;33m\u001b[0m\u001b[0m\n",
      "\u001b[1;32m~\\anaconda3\\lib\\site-packages\\sklearn\\svm\\_base.py\u001b[0m in \u001b[0;36m_dense_fit\u001b[1;34m(self, X, y, sample_weight, solver_type, kernel, random_seed)\u001b[0m\n\u001b[0;32m    275\u001b[0m         \u001b[0mself\u001b[0m\u001b[1;33m.\u001b[0m\u001b[0msupport_\u001b[0m\u001b[1;33m,\u001b[0m \u001b[0mself\u001b[0m\u001b[1;33m.\u001b[0m\u001b[0msupport_vectors_\u001b[0m\u001b[1;33m,\u001b[0m \u001b[0mself\u001b[0m\u001b[1;33m.\u001b[0m\u001b[0m_n_support\u001b[0m\u001b[1;33m,\u001b[0m\u001b[0;31m \u001b[0m\u001b[0;31m\\\u001b[0m\u001b[1;33m\u001b[0m\u001b[1;33m\u001b[0m\u001b[0m\n\u001b[0;32m    276\u001b[0m             \u001b[0mself\u001b[0m\u001b[1;33m.\u001b[0m\u001b[0mdual_coef_\u001b[0m\u001b[1;33m,\u001b[0m \u001b[0mself\u001b[0m\u001b[1;33m.\u001b[0m\u001b[0mintercept_\u001b[0m\u001b[1;33m,\u001b[0m \u001b[0mself\u001b[0m\u001b[1;33m.\u001b[0m\u001b[0m_probA\u001b[0m\u001b[1;33m,\u001b[0m\u001b[0;31m \u001b[0m\u001b[0;31m\\\u001b[0m\u001b[1;33m\u001b[0m\u001b[1;33m\u001b[0m\u001b[0m\n\u001b[1;32m--> 277\u001b[1;33m             self._probB, self.fit_status_ = libsvm.fit(\n\u001b[0m\u001b[0;32m    278\u001b[0m                 \u001b[0mX\u001b[0m\u001b[1;33m,\u001b[0m \u001b[0my\u001b[0m\u001b[1;33m,\u001b[0m\u001b[1;33m\u001b[0m\u001b[1;33m\u001b[0m\u001b[0m\n\u001b[0;32m    279\u001b[0m                 \u001b[0msvm_type\u001b[0m\u001b[1;33m=\u001b[0m\u001b[0msolver_type\u001b[0m\u001b[1;33m,\u001b[0m \u001b[0msample_weight\u001b[0m\u001b[1;33m=\u001b[0m\u001b[0msample_weight\u001b[0m\u001b[1;33m,\u001b[0m\u001b[1;33m\u001b[0m\u001b[1;33m\u001b[0m\u001b[0m\n",
      "\u001b[1;31mKeyboardInterrupt\u001b[0m: "
     ]
    }
   ],
   "source": [
    "for clf, model in zip(clf,models):\n",
    "  clf.fit ( X_train, y_train )\n",
    "  y_pred = clf.predict ( X_test )\n",
    "  print ( f'Cross validation score of {model}: %.3f \\n' %cross_val_score (clf, X_train, y_train, cv=5).mean() )"
   ]
  },
  {
   "cell_type": "code",
   "execution_count": null,
   "id": "70ba2670",
   "metadata": {},
   "outputs": [],
   "source": []
  }
 ],
 "metadata": {
  "kernelspec": {
   "display_name": "Python 3 (ipykernel)",
   "language": "python",
   "name": "python3"
  },
  "language_info": {
   "codemirror_mode": {
    "name": "ipython",
    "version": 3
   },
   "file_extension": ".py",
   "mimetype": "text/x-python",
   "name": "python",
   "nbconvert_exporter": "python",
   "pygments_lexer": "ipython3",
   "version": "3.9.7"
  }
 },
 "nbformat": 4,
 "nbformat_minor": 5
}
